{
 "cells": [
  {
   "cell_type": "markdown",
   "id": "f4d32456",
   "metadata": {},
   "source": [
    "# 자동완성"
   ]
  },
  {
   "cell_type": "code",
   "execution_count": 40,
   "id": "a4c3fd6a",
   "metadata": {},
   "outputs": [],
   "source": [
    "%config IPCompleter.greedy=True"
   ]
  },
  {
   "cell_type": "markdown",
   "id": "6fcd5e72",
   "metadata": {},
   "source": [
    "### 숫자\n",
    "- int형만 제공\n",
    "- boolean도 숫자 "
   ]
  },
  {
   "cell_type": "code",
   "execution_count": 2,
   "id": "03a805a5",
   "metadata": {},
   "outputs": [
    {
     "name": "stdout",
     "output_type": "stream",
     "text": [
      "True\n",
      "True\n"
     ]
    }
   ],
   "source": [
    "print(True == 1)\n",
    "print(False == 0)"
   ]
  },
  {
   "cell_type": "markdown",
   "id": "5cd4441d",
   "metadata": {},
   "source": [
    "### 매핑 (Mapping)\n",
    "- 키와 자료형으로 구성된 복합 자료형\n",
    "- 딕셔너리"
   ]
  },
  {
   "cell_type": "markdown",
   "id": "03d30deb",
   "metadata": {},
   "source": [
    "### 집합\n",
    "- set : 중복된 값을 갖지 않는 자료형\n",
    "- 입력순서가 유지되지 않는다."
   ]
  },
  {
   "cell_type": "code",
   "execution_count": 4,
   "id": "60766f8e",
   "metadata": {},
   "outputs": [
    {
     "name": "stdout",
     "output_type": "stream",
     "text": [
      "<class 'set'>\n",
      "<class 'set'>\n"
     ]
    }
   ],
   "source": [
    " a = set()\n",
    "print(type(a))   #선언방법 1\n",
    "\n",
    "a = {'a', 'b', 'c'}  #선언방법 2\n",
    "print(type(a))"
   ]
  },
  {
   "cell_type": "code",
   "execution_count": 5,
   "id": "87347847",
   "metadata": {},
   "outputs": [
    {
     "name": "stdout",
     "output_type": "stream",
     "text": [
      "<class 'dict'>\n"
     ]
    }
   ],
   "source": [
    "a = {'a' : '1', 'b':'2', 'c':'3'}\n",
    "print(type(a))방법이 중괄호로 유사하지만, 딕셔너리는 key:value 페어라는 차이"
   ]
  },
  {
   "cell_type": "code",
   "execution_count": 6,
   "id": "2f2d81dd",
   "metadata": {},
   "outputs": [
    {
     "name": "stdout",
     "output_type": "stream",
     "text": [
      "{2, 3, 5}\n"
     ]
    }
   ],
   "source": [
    "# 입력순서 유지X \n",
    "# 중복값 제거\n",
    "\n",
    "a = {3,2,3,5}\n",
    "print(a)"
   ]
  },
  {
   "cell_type": "markdown",
   "id": "1106cf98",
   "metadata": {},
   "source": [
    "### 시퀀스\n",
    "- 수열\n",
    "- 순서 있는 나열\n",
    "- 불변과 가변으로 구분\n",
    "    - 불변 : str, tuple, bytes\n",
    "    - 가변 : list "
   ]
  },
  {
   "cell_type": "markdown",
   "id": "e73355fb",
   "metadata": {},
   "source": [
    "### 객체\n",
    "- 불변\n",
    "    -  bool\n",
    "    - int\n",
    "    - float\n",
    "    - tuple\n",
    "    - str\n",
    "- 가변 \n",
    "    - list\n",
    "    - set\n",
    "    - dict"
   ]
  },
  {
   "cell_type": "code",
   "execution_count": 9,
   "id": "7d3e0fc0",
   "metadata": {},
   "outputs": [
    {
     "name": "stdout",
     "output_type": "stream",
     "text": [
      "140707443255280\n",
      "140707443255280\n",
      "140707443255280\n",
      "140707443255376\n"
     ]
    }
   ],
   "source": [
    "### 불변객체의 참조 : 같은 값을 참조하고 있더라고, 각 포인터들은 따로 논다\n",
    "a = 7\n",
    "b = a\n",
    "print(id(a))\n",
    "print(id(b))\n",
    "\n",
    "b = 10\n",
    "print(id(a)) #여전히 a는 7를 참조\n",
    "print(id(b)) #b는 10을 참조\n"
   ]
  },
  {
   "cell_type": "code",
   "execution_count": 10,
   "id": "4b5acc28",
   "metadata": {},
   "outputs": [
    {
     "name": "stdout",
     "output_type": "stream",
     "text": [
      "[1, 2, 5]\n"
     ]
    }
   ],
   "source": [
    "### 가변객체의 참조 : 같은 값을 참조하는 다른 참조변수가 객체를 변경하면, 다른 포인터도 영향을 받음\n",
    "a = [1,2,3]\n",
    "b = a\n",
    "b[2] = 5\n",
    "print(a)"
   ]
  },
  {
   "cell_type": "markdown",
   "id": "70db1344",
   "metadata": {},
   "source": [
    "### 리스트\n",
    "- 파이썬에서 모든 것이 객체\n",
    "- 리스트는 객체에 대한 포인터들의 목록"
   ]
  },
  {
   "cell_type": "code",
   "execution_count": null,
   "id": "da5cbea5",
   "metadata": {},
   "outputs": [],
   "source": [
    "# 선언\n",
    "a = list()\n",
    "a = []"
   ]
  },
  {
   "cell_type": "code",
   "execution_count": 12,
   "id": "7b6d4190",
   "metadata": {},
   "outputs": [
    {
     "name": "stdout",
     "output_type": "stream",
     "text": [
      "[1, 2, 3, 4]\n"
     ]
    }
   ],
   "source": [
    "# append\n",
    "# - 리스트 마지막에 요소 추가\n",
    "# - O(1)\n",
    "\n",
    "a = [1,2,3]\n",
    "a.append(4)\n",
    "print(a)"
   ]
  },
  {
   "cell_type": "code",
   "execution_count": 16,
   "id": "b6efa1d0",
   "metadata": {},
   "outputs": [
    {
     "name": "stdout",
     "output_type": "stream",
     "text": [
      "[1, 2, 3, 5, 5, 4]\n"
     ]
    }
   ],
   "source": [
    "# insert(추가할 위치, 추가할 값)\n",
    "a.insert(3,5)  # 3번 인덱스 위치(4번째)에 5삽입\n",
    "print(a)"
   ]
  },
  {
   "cell_type": "code",
   "execution_count": 17,
   "id": "66138b54",
   "metadata": {},
   "outputs": [
    {
     "name": "stdout",
     "output_type": "stream",
     "text": [
      "[1, 2, 3, 5, 5, 4, '가', True]\n"
     ]
    }
   ],
   "source": [
    "# 다양한 자료형을 동일한 리스트 안에서 관리 가능\n",
    "a.append('가')\n",
    "a.append(True)\n",
    "print(a)"
   ]
  },
  {
   "cell_type": "code",
   "execution_count": 18,
   "id": "faa684fa",
   "metadata": {},
   "outputs": [
    {
     "name": "stdout",
     "output_type": "stream",
     "text": [
      "3\n"
     ]
    }
   ],
   "source": [
    "#인덱스로 값 꺼내오기\n",
    "print(a[2])"
   ]
  },
  {
   "cell_type": "code",
   "execution_count": 19,
   "id": "8eb57d6b",
   "metadata": {},
   "outputs": [
    {
     "name": "stdout",
     "output_type": "stream",
     "text": [
      "[1, 2, 3, 5, 5, 4, '가', True]\n",
      "[2, 3]\n",
      "[1, 2, 3]\n",
      "[5, 5, 4, '가', True]\n"
     ]
    }
   ],
   "source": [
    "#슬라이싱 : 마지막 인덱스는 포함되지 않음\n",
    "print(a)\n",
    "print(a[1:3])\n",
    "print(a[:3])\n",
    "print(a[3:])"
   ]
  },
  {
   "cell_type": "code",
   "execution_count": 21,
   "id": "d2f0c538",
   "metadata": {},
   "outputs": [
    {
     "name": "stdout",
     "output_type": "stream",
     "text": [
      "[1, 3, 5]\n",
      "[1, 3, 5, '가']\n"
     ]
    }
   ],
   "source": [
    "print(a[0:5:2])\n",
    "print(a[0::2])  #2개씩 건너뛰기"
   ]
  },
  {
   "cell_type": "code",
   "execution_count": 22,
   "id": "c2f6c946",
   "metadata": {},
   "outputs": [
    {
     "name": "stdout",
     "output_type": "stream",
     "text": [
      "[1, 2, 3, 5, 5, 4, '가', True]\n",
      "[1, 3, 5, 5, 4, '가', True]\n"
     ]
    }
   ],
   "source": [
    "#del : 인덱스로 삭제\n",
    "print(a)\n",
    "\n",
    "del a[1]\n",
    "print(a)"
   ]
  },
  {
   "cell_type": "code",
   "execution_count": 23,
   "id": "f3266b3e",
   "metadata": {},
   "outputs": [
    {
     "name": "stdout",
     "output_type": "stream",
     "text": [
      "[1, 3, 5, 5, 4, '가', True]\n",
      "[1, 5, 5, 4, '가', True]\n"
     ]
    }
   ],
   "source": [
    "#remove : 값으로 삭제\n",
    "\n",
    "print(a)\n",
    "\n",
    "a.remove(3)\n",
    "print(a)"
   ]
  },
  {
   "cell_type": "code",
   "execution_count": 26,
   "id": "9cd60601",
   "metadata": {},
   "outputs": [
    {
     "name": "stdout",
     "output_type": "stream",
     "text": [
      "[1, 5, 5, '가', True]\n",
      "가\n",
      "[1, 5, 5, True]\n"
     ]
    }
   ],
   "source": [
    "#pop : 인덱스를 삭제하고, 삭제한 값을 리턴함\n",
    "\n",
    "print(a)\n",
    "print(a.pop(3))\n",
    "print(a)"
   ]
  },
  {
   "cell_type": "markdown",
   "id": "70b4c9c8",
   "metadata": {},
   "source": [
    "### 딕셔너리 \n",
    "- key : value 구조 \n",
    "- 대부분의 연산이 O(1)\n",
    "- 입력순서는 유지되지 않음"
   ]
  },
  {
   "cell_type": "code",
   "execution_count": null,
   "id": "39d45ecb",
   "metadata": {},
   "outputs": [],
   "source": [
    "# 선언\n",
    "a = dict()\n",
    "a = {}"
   ]
  },
  {
   "cell_type": "code",
   "execution_count": 27,
   "id": "715b29ee",
   "metadata": {},
   "outputs": [
    {
     "name": "stdout",
     "output_type": "stream",
     "text": [
      "{'key1': 'value1', 'key2': 'value2'}\n",
      "{'key1': 'value1', 'key2': 'value2', 'key3': 'value3'}\n"
     ]
    }
   ],
   "source": [
    "# 입력\n",
    "a = {'key1' : 'value1', 'key2' : 'value2'}\n",
    "print(a)\n",
    "\n",
    "a['key3']='value3'\n",
    "print(a)"
   ]
  },
  {
   "cell_type": "code",
   "execution_count": 28,
   "id": "9d76130c",
   "metadata": {},
   "outputs": [
    {
     "name": "stdout",
     "output_type": "stream",
     "text": [
      "value1\n"
     ]
    }
   ],
   "source": [
    "# 조회\n",
    "print(a['key1'])"
   ]
  },
  {
   "cell_type": "code",
   "execution_count": 29,
   "id": "f5d34197",
   "metadata": {},
   "outputs": [
    {
     "name": "stdout",
     "output_type": "stream",
     "text": [
      "존재하지 않는 키\n"
     ]
    }
   ],
   "source": [
    "try:\n",
    "    print(a['key4'])\n",
    "except:\n",
    "    print(\"존재하지 않는 키\")"
   ]
  },
  {
   "cell_type": "code",
   "execution_count": 31,
   "id": "d2740878",
   "metadata": {},
   "outputs": [
    {
     "name": "stdout",
     "output_type": "stream",
     "text": [
      "존재하는 키\n"
     ]
    }
   ],
   "source": [
    "if 'key3' in a:\n",
    "    print('존재하는 키')\n",
    "else:\n",
    "    print('존재하지 않는 키')"
   ]
  },
  {
   "cell_type": "code",
   "execution_count": 33,
   "id": "8d0c2794",
   "metadata": {},
   "outputs": [
    {
     "name": "stdout",
     "output_type": "stream",
     "text": [
      "{'key1': 'value1', 'key2': 'value2', 'key3': 'value3'}\n",
      "key1 value1\n",
      "key2 value2\n",
      "key3 value3\n"
     ]
    }
   ],
   "source": [
    "# items() : key와 value를 각각 꺼내올 수 있는 메소드\n",
    "\n",
    "print(a)\n",
    "\n",
    "for k, v in a.items():\n",
    "    print(k,v)"
   ]
  },
  {
   "cell_type": "code",
   "execution_count": 34,
   "id": "677e655b",
   "metadata": {},
   "outputs": [
    {
     "name": "stdout",
     "output_type": "stream",
     "text": [
      "{'key1': 'value1', 'key2': 'value2', 'key3': 'value3'}\n",
      "{'key1': 'value1', 'key2': 'value2'}\n"
     ]
    }
   ],
   "source": [
    "# del : 삭제\n",
    "\n",
    "print(a)\n",
    "\n",
    "del a['key3']\n",
    "print(a)"
   ]
  },
  {
   "cell_type": "markdown",
   "id": "37cf763b",
   "metadata": {},
   "source": [
    "### 딕셔너리 모듈"
   ]
  },
  {
   "cell_type": "markdown",
   "id": "251d9a07",
   "metadata": {},
   "source": [
    "1. defaultdict \n",
    "    - 존재하지 않는 키를 조회할 경우, 자동으로 그 키에 대해 디폴트 값을 부여하여 아이템을 생성함\n"
   ]
  },
  {
   "cell_type": "code",
   "execution_count": 38,
   "id": "c358b476",
   "metadata": {},
   "outputs": [
    {
     "name": "stdout",
     "output_type": "stream",
     "text": [
      "defaultdict(<class 'int'>, {'A': 5, 'B': 4})\n",
      "0\n",
      "defaultdict(<class 'int'>, {'A': 5, 'B': 4, 'C': 0})\n",
      "defaultdict(<class 'int'>, {'A': 5, 'B': 4, 'C': 0, 'D': 1})\n"
     ]
    }
   ],
   "source": [
    "import collections\n",
    "\n",
    "a = collections.defaultdict(int)\n",
    "a['A'] = 5\n",
    "a['B'] = 4\n",
    "print(a)\n",
    "\n",
    "print(a['C']) ##생성과 함께 디폴트값 0을 넣음\n",
    "print(a)\n",
    "\n",
    "a['D'] += 1\n",
    "print(a)"
   ]
  },
  {
   "cell_type": "markdown",
   "id": "0530bf46",
   "metadata": {},
   "source": [
    "2. Counter\n",
    "    - 아이템에 대한 개수를 계산하여 딕셔너리로 리턴"
   ]
  },
  {
   "cell_type": "code",
   "execution_count": 41,
   "id": "44490151",
   "metadata": {},
   "outputs": [
    {
     "name": "stdout",
     "output_type": "stream",
     "text": [
      "Counter({1: 5, 2: 4, 3: 3, 4: 2, 5: 1})\n"
     ]
    }
   ],
   "source": [
    "a = [1,1,1,1,1,2,2,2,2,3,3,3,4,4,5,]\n",
    "\n",
    "b = collections.Counter(a)\n",
    "\n",
    "print(b)"
   ]
  },
  {
   "cell_type": "code",
   "execution_count": 42,
   "id": "35c3dd2b",
   "metadata": {},
   "outputs": [
    {
     "name": "stdout",
     "output_type": "stream",
     "text": [
      "[(1, 5), (2, 4)]\n"
     ]
    }
   ],
   "source": [
    "# 빈도 높은 순 상위 n개 추출\n",
    "print(b.most_common(2))"
   ]
  },
  {
   "cell_type": "markdown",
   "id": "810d4c9b",
   "metadata": {},
   "source": [
    "3. OrderedDict\n",
    "    - 입력순서가 유지되는 딕셔너리"
   ]
  },
  {
   "cell_type": "code",
   "execution_count": 44,
   "id": "5f36fd1f",
   "metadata": {},
   "outputs": [
    {
     "name": "stdout",
     "output_type": "stream",
     "text": [
      "OrderedDict([('a', 3), ('b', 4), ('c', 5), ('d', 6)])\n"
     ]
    }
   ],
   "source": [
    "a = collections.OrderedDict({'a':3,'b':4,'c':5,'d':6})\n",
    "print(a)"
   ]
  },
  {
   "cell_type": "code",
   "execution_count": null,
   "id": "ae9d1d09",
   "metadata": {},
   "outputs": [],
   "source": []
  },
  {
   "cell_type": "code",
   "execution_count": null,
   "id": "aceae0f6",
   "metadata": {},
   "outputs": [],
   "source": []
  },
  {
   "cell_type": "code",
   "execution_count": null,
   "id": "b7d6f1dd",
   "metadata": {},
   "outputs": [],
   "source": []
  },
  {
   "cell_type": "code",
   "execution_count": null,
   "id": "763659a1",
   "metadata": {},
   "outputs": [],
   "source": []
  },
  {
   "cell_type": "code",
   "execution_count": null,
   "id": "c5729510",
   "metadata": {},
   "outputs": [],
   "source": []
  },
  {
   "cell_type": "code",
   "execution_count": null,
   "id": "a468e49b",
   "metadata": {},
   "outputs": [],
   "source": []
  },
  {
   "cell_type": "code",
   "execution_count": null,
   "id": "8d6463a4",
   "metadata": {},
   "outputs": [],
   "source": []
  },
  {
   "cell_type": "code",
   "execution_count": null,
   "id": "591bee12",
   "metadata": {},
   "outputs": [],
   "source": []
  },
  {
   "cell_type": "code",
   "execution_count": null,
   "id": "1dd6227c",
   "metadata": {},
   "outputs": [],
   "source": []
  },
  {
   "cell_type": "code",
   "execution_count": null,
   "id": "2ad706ec",
   "metadata": {},
   "outputs": [],
   "source": []
  },
  {
   "cell_type": "code",
   "execution_count": null,
   "id": "ed35da85",
   "metadata": {},
   "outputs": [],
   "source": []
  },
  {
   "cell_type": "code",
   "execution_count": null,
   "id": "c2a4e553",
   "metadata": {},
   "outputs": [],
   "source": []
  },
  {
   "cell_type": "code",
   "execution_count": null,
   "id": "5e503fdc",
   "metadata": {},
   "outputs": [],
   "source": []
  },
  {
   "cell_type": "code",
   "execution_count": null,
   "id": "6c9ece91",
   "metadata": {},
   "outputs": [],
   "source": []
  },
  {
   "cell_type": "code",
   "execution_count": null,
   "id": "d70a8df3",
   "metadata": {},
   "outputs": [],
   "source": []
  },
  {
   "cell_type": "code",
   "execution_count": null,
   "id": "4cc3965c",
   "metadata": {},
   "outputs": [],
   "source": []
  },
  {
   "cell_type": "code",
   "execution_count": null,
   "id": "5e4bb522",
   "metadata": {},
   "outputs": [],
   "source": []
  },
  {
   "cell_type": "code",
   "execution_count": null,
   "id": "54948a3b",
   "metadata": {},
   "outputs": [],
   "source": [
    "\n"
   ]
  },
  {
   "cell_type": "code",
   "execution_count": null,
   "id": "83f2b9ae",
   "metadata": {},
   "outputs": [],
   "source": []
  },
  {
   "cell_type": "code",
   "execution_count": null,
   "id": "a343d8f4",
   "metadata": {},
   "outputs": [],
   "source": []
  },
  {
   "cell_type": "code",
   "execution_count": null,
   "id": "867c398f",
   "metadata": {},
   "outputs": [],
   "source": []
  },
  {
   "cell_type": "code",
   "execution_count": null,
   "id": "057b5142",
   "metadata": {},
   "outputs": [],
   "source": []
  },
  {
   "cell_type": "code",
   "execution_count": null,
   "id": "ed9f6eac",
   "metadata": {},
   "outputs": [],
   "source": []
  },
  {
   "cell_type": "code",
   "execution_count": null,
   "id": "9c88ddc9",
   "metadata": {},
   "outputs": [],
   "source": []
  },
  {
   "cell_type": "code",
   "execution_count": null,
   "id": "2860ccbc",
   "metadata": {},
   "outputs": [],
   "source": []
  }
 ],
 "metadata": {
  "kernelspec": {
   "display_name": "Python 3",
   "language": "python",
   "name": "python3"
  },
  "language_info": {
   "codemirror_mode": {
    "name": "ipython",
    "version": 3
   },
   "file_extension": ".py",
   "mimetype": "text/x-python",
   "name": "python",
   "nbconvert_exporter": "python",
   "pygments_lexer": "ipython3",
   "version": "3.8.8"
  }
 },
 "nbformat": 4,
 "nbformat_minor": 5
}
